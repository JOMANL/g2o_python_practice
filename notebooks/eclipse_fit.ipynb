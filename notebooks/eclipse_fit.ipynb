{
 "cells": [
  {
   "cell_type": "code",
   "execution_count": 88,
   "id": "83f83535-5dfd-47d4-9a87-c1ed9e2923f1",
   "metadata": {
    "tags": []
   },
   "outputs": [
    {
     "name": "stdout",
     "output_type": "stream",
     "text": [
      "env: OMP_NUM_THREADS=10\n",
      "%pylab is deprecated, use %matplotlib inline and import the required libraries.\n",
      "Populating the interactive namespace from numpy and matplotlib\n",
      "The autoreload extension is already loaded. To reload it, use:\n",
      "  %reload_ext autoreload\n"
     ]
    }
   ],
   "source": [
    "%matplotlib inline\n",
    "%env OMP_NUM_THREADS=10\n",
    "%pylab inline\n",
    "%load_ext autoreload\n",
    "%autoreload 2\n",
    "plt.rcParams['figure.figsize'] = [12, 12]\n",
    "\n",
    "import cv2\n",
    "from matplotlib.colors import LinearSegmentedColormap\n",
    "\n",
    "from typing import List\n",
    "import random"
   ]
  },
  {
   "cell_type": "code",
   "execution_count": 89,
   "id": "bc867a0c-94a0-45e2-9574-a2b58fff8768",
   "metadata": {
    "tags": []
   },
   "outputs": [],
   "source": [
    "import g2o\n",
    "\n",
    "def sample_ellipse(cx, cy, a, b):\n",
    "    t = np.linspace(0, 2*np.pi, 100)\n",
    "    x = cx + a * np.cos(t)\n",
    "    y = cy + b * np.sin(t)\n",
    "    return x,y"
   ]
  },
  {
   "cell_type": "code",
   "execution_count": 90,
   "id": "8379e23d-0dff-4e83-bc7f-97c39269b63b",
   "metadata": {
    "tags": []
   },
   "outputs": [],
   "source": [
    "class VertexEclipse(g2o.VectorXVertex):\n",
    "    \"\"\"A circle parameterized by position x,y with radius a,b \"\"\"\n",
    "\n",
    "    def __init__(self) -> None:\n",
    "        g2o.VectorXVertex.__init__(self)\n",
    "        self.set_dimension(4)\n",
    "        self.set_estimate([0] * 4)\n",
    "\n",
    "    def oplus_impl(self, update) -> None:\n",
    "        self.set_estimate(self.estimate() + update)\n",
    "       \n",
    "class VertexTheta(g2o.VectorXVertex):\n",
    "    \"\"\"A angle of point on eclipse parameterized by theta \"\"\"\n",
    "\n",
    "    def __init__(self) -> None:\n",
    "        g2o.VectorXVertex.__init__(self)\n",
    "        self.set_dimension(1)\n",
    "        self.set_estimate([0])\n",
    "\n",
    "    def oplus_impl(self, update) -> None:\n",
    "        self.set_estimate(self.estimate() + update)\n",
    "    \n",
    "class EdgePointOnEclipse(g2o.VariableVectorXEdge):\n",
    "    def __init__(self) -> None:\n",
    "        g2o.VariableVectorXEdge.__init__(self)\n",
    "        self.set_dimension(1)  # dimension of the error function\n",
    "        self.information()\n",
    "        self.resize(2)  # number of vertices\n",
    "        self.set_measurement([0, 0])  # initial measurement\n",
    "\n",
    "    def compute_error(self):\n",
    "        eclipse = self.vertex(0).estimate()\n",
    "        theta = self.vertex(1).estimate()\n",
    "        \n",
    "        cx = eclipse[0]\n",
    "        cy = eclipse[1]\n",
    "        \n",
    "        a = eclipse[2]\n",
    "        b = eclipse[3]\n",
    "        estimate = np.array([a * np.cos(theta) + cx, b * np.sin(theta) + cy]).squeeze()\n",
    "        \n",
    "        error = np.linalg.norm(self.measurement() -  estimate)\n",
    "        #print(self.measurement() ,  estimate)\n",
    "        return [error]"
   ]
  },
  {
   "cell_type": "code",
   "execution_count": 91,
   "id": "19842fb0-6c21-4c05-b8bc-b989a0782a20",
   "metadata": {
    "tags": []
   },
   "outputs": [],
   "source": [
    "num_points: int = 100\n",
    "max_iterations: int = 100\n",
    "verbose: bool = True\n",
    "# TODO: Parse from command line\n",
    "\n",
    "# Setup the optimizer\n",
    "optimizer = g2o.SparseOptimizer()\n",
    "solver = g2o.BlockSolverSE3(g2o.LinearSolverDenseSE3())\n",
    "solver = g2o.OptimizationAlgorithmLevenberg(solver)\n",
    "optimizer.set_algorithm(solver)"
   ]
  },
  {
   "cell_type": "code",
   "execution_count": 92,
   "id": "e6f88993-d29a-49ab-bb90-9c784d663d03",
   "metadata": {
    "tags": []
   },
   "outputs": [],
   "source": [
    "# generate random data\n",
    "center: np.ndarray = np.array([4, 8])\n",
    "A: float = 2.0\n",
    "B: float = 10\n",
    "points: List[np.array] = []\n",
    "\n",
    "for _ in range(num_points):\n",
    "    a = random.gauss(A, 0.05)\n",
    "    b = a * B/A\n",
    "    angle = random.uniform(0.0, 2.0 * np.pi)\n",
    "    points.append(center + np.array([a * np.cos(angle), b * np.sin(angle)]))"
   ]
  },
  {
   "cell_type": "code",
   "execution_count": 93,
   "id": "04953dc1-3cb2-4f70-afed-5d328fa7ac28",
   "metadata": {
    "tags": []
   },
   "outputs": [
    {
     "name": "stdout",
     "output_type": "stream",
     "text": [
      "3.9696915032617643 7.803897747002996\n"
     ]
    },
    {
     "data": {
      "text/plain": [
       "True"
      ]
     },
     "execution_count": 93,
     "metadata": {},
     "output_type": "execute_result"
    }
   ],
   "source": [
    "init_cx = np.array(points)[:,0].mean()\n",
    "init_cy = np.array(points)[:,1].mean()\n",
    "print(init_cx,init_cy)\n",
    "\n",
    "eclipse: VertexEclipse = VertexEclipse()\n",
    "eclipse.set_id(0)\n",
    "eclipse.set_estimate([init_cx, init_cy, 2.0,2.0])  # some initial value for the circle\n",
    "optimizer.add_vertex(eclipse)"
   ]
  },
  {
   "cell_type": "code",
   "execution_count": 94,
   "id": "e6418ac2-ebc1-4dbc-bdba-8394fcaa1427",
   "metadata": {
    "tags": []
   },
   "outputs": [],
   "source": [
    "# 2. add the points we measured\n",
    "for i,point in enumerate(points,1):\n",
    "    \n",
    "    t = np.arctan((point[1] - init_cy)/ (point[0] - init_cx))\n",
    "    \n",
    "    theta: VertexTheta = VertexTheta()\n",
    "    theta.set_id(i)\n",
    "    theta.set_estimate([t])\n",
    "    \n",
    "    optimizer.add_vertex(theta)\n",
    "\n",
    "    edge: EdgePointOnEclipse = EdgePointOnEclipse()\n",
    "    edge.set_information(np.identity(1))\n",
    "  \n",
    "    edge.set_vertex(0, eclipse)\n",
    "    edge.set_vertex(1, theta)\n",
    "\n",
    "    edge.set_measurement(point)\n",
    "    # print(f\"error: {edge.compute_error()}\")\n",
    "    # print(f\"edge slots: {dir(edge)}\")\n",
    "    optimizer.add_edge(edge)"
   ]
  },
  {
   "cell_type": "code",
   "execution_count": 95,
   "id": "35dd9492-19df-45eb-af62-f1419e6e5069",
   "metadata": {
    "tags": []
   },
   "outputs": [
    {
     "name": "stdout",
     "output_type": "stream",
     "text": [
      "Number of vertices: 101\n",
      "Number of edges: 100\n"
     ]
    }
   ],
   "source": [
    "print(f\"Number of vertices: {len(optimizer.vertices())}\")\n",
    "print(f\"Number of edges: {len(optimizer.edges())}\")"
   ]
  },
  {
   "cell_type": "code",
   "execution_count": 96,
   "id": "c90b7255-2e74-4013-8880-459de559e475",
   "metadata": {
    "tags": []
   },
   "outputs": [
    {
     "name": "stderr",
     "output_type": "stream",
     "text": [
      "iteration= 0\t chi2= 5585.153020\t time= 0.0646302\t cumTime= 0.0646302\t edges= 100\t schur= 0\t lambda= 583.605667\t levenbergIter= 7\n",
      "iteration= 1\t chi2= 5458.419257\t time= 0.0375163\t cumTime= 0.102147\t edges= 100\t schur= 0\t lambda= 194.535222\t levenbergIter= 1\n",
      "iteration= 2\t chi2= 5221.215256\t time= 0.0376029\t cumTime= 0.139749\t edges= 100\t schur= 0\t lambda= 129.690148\t levenbergIter= 1\n",
      "iteration= 3\t chi2= 5125.752848\t time= 0.0374559\t cumTime= 0.177205\t edges= 100\t schur= 0\t lambda= 86.460099\t levenbergIter= 1\n",
      "iteration= 4\t chi2= 5100.179059\t time= 0.0419036\t cumTime= 0.219109\t edges= 100\t schur= 0\t lambda= 57.640066\t levenbergIter= 1\n",
      "iteration= 5\t chi2= 5073.764757\t time= 0.048305\t cumTime= 0.267414\t edges= 100\t schur= 0\t lambda= 76.853421\t levenbergIter= 2\n",
      "iteration= 6\t chi2= 5054.821237\t time= 0.0416222\t cumTime= 0.309036\t edges= 100\t schur= 0\t lambda= 102.471228\t levenbergIter= 2\n",
      "iteration= 7\t chi2= 5035.652658\t time= 0.0441414\t cumTime= 0.353178\t edges= 100\t schur= 0\t lambda= 34.157076\t levenbergIter= 1\n",
      "iteration= 8\t chi2= 5028.530817\t time= 0.043955\t cumTime= 0.397133\t edges= 100\t schur= 0\t lambda= 91.085536\t levenbergIter= 3\n",
      "iteration= 9\t chi2= 5007.152097\t time= 0.0370273\t cumTime= 0.43416\t edges= 100\t schur= 0\t lambda= 60.723691\t levenbergIter= 1\n",
      "iteration= 10\t chi2= 4989.182757\t time= 0.0426998\t cumTime= 0.47686\t edges= 100\t schur= 0\t lambda= 59.761770\t levenbergIter= 2\n",
      "iteration= 11\t chi2= 4970.455409\t time= 0.0407742\t cumTime= 0.517634\t edges= 100\t schur= 0\t lambda= 47.774144\t levenbergIter= 2\n",
      "iteration= 12\t chi2= 4944.614278\t time= 0.0409979\t cumTime= 0.558632\t edges= 100\t schur= 0\t lambda= 31.849429\t levenbergIter= 2\n",
      "iteration= 13\t chi2= 4934.023667\t time= 0.0517638\t cumTime= 0.610396\t edges= 100\t schur= 0\t lambda= 84.931812\t levenbergIter= 3\n",
      "iteration= 14\t chi2= 4900.076550\t time= 0.0365879\t cumTime= 0.646983\t edges= 100\t schur= 0\t lambda= 56.621208\t levenbergIter= 1\n",
      "iteration= 15\t chi2= 4865.430977\t time= 0.0438084\t cumTime= 0.690792\t edges= 100\t schur= 0\t lambda= 75.494944\t levenbergIter= 2\n",
      "iteration= 16\t chi2= 4837.294661\t time= 0.044201\t cumTime= 0.734993\t edges= 100\t schur= 0\t lambda= 50.329963\t levenbergIter= 2\n",
      "iteration= 17\t chi2= 4784.899837\t time= 0.0400588\t cumTime= 0.775052\t edges= 100\t schur= 0\t lambda= 39.648114\t levenbergIter= 2\n",
      "iteration= 18\t chi2= 4687.777203\t time= 0.0409258\t cumTime= 0.815977\t edges= 100\t schur= 0\t lambda= 26.432076\t levenbergIter= 2\n",
      "iteration= 19\t chi2= 4632.825861\t time= 0.0421387\t cumTime= 0.858116\t edges= 100\t schur= 0\t lambda= 70.485536\t levenbergIter= 3\n",
      "iteration= 20\t chi2= 4403.990498\t time= 0.0385441\t cumTime= 0.89666\t edges= 100\t schur= 0\t lambda= 46.990357\t levenbergIter= 1\n",
      "iteration= 21\t chi2= 3989.077053\t time= 0.0466064\t cumTime= 0.943267\t edges= 100\t schur= 0\t lambda= 42.708811\t levenbergIter= 2\n",
      "iteration= 22\t chi2= 3204.811648\t time= 0.0404588\t cumTime= 0.983725\t edges= 100\t schur= 0\t lambda= 28.472541\t levenbergIter= 2\n",
      "iteration= 23\t chi2= 1598.555676\t time= 0.0442985\t cumTime= 1.02802\t edges= 100\t schur= 0\t lambda= 37.963388\t levenbergIter= 2\n",
      "iteration= 24\t chi2= 920.734982\t time= 0.0418086\t cumTime= 1.06983\t edges= 100\t schur= 0\t lambda= 50.617850\t levenbergIter= 2\n",
      "iteration= 25\t chi2= 697.949126\t time= 0.0559183\t cumTime= 1.12575\t edges= 100\t schur= 0\t lambda= 67.490467\t levenbergIter= 2\n",
      "iteration= 26\t chi2= 677.509596\t time= 0.0414736\t cumTime= 1.16722\t edges= 100\t schur= 0\t lambda= 44.993645\t levenbergIter= 1\n",
      "iteration= 27\t chi2= 626.924553\t time= 0.0437897\t cumTime= 1.21101\t edges= 100\t schur= 0\t lambda= 197.233536\t levenbergIter= 3\n",
      "iteration= 28\t chi2= 571.352861\t time= 0.0432127\t cumTime= 1.25423\t edges= 100\t schur= 0\t lambda= 131.489024\t levenbergIter= 1\n",
      "iteration= 29\t chi2= 536.910029\t time= 0.035971\t cumTime= 1.2902\t edges= 100\t schur= 0\t lambda= 87.659349\t levenbergIter= 1\n",
      "iteration= 30\t chi2= 513.755922\t time= 0.0389398\t cumTime= 1.32914\t edges= 100\t schur= 0\t lambda= 51.577060\t levenbergIter= 1\n",
      "iteration= 31\t chi2= 496.368380\t time= 0.0416779\t cumTime= 1.37082\t edges= 100\t schur= 0\t lambda= 68.769414\t levenbergIter= 2\n",
      "iteration= 32\t chi2= 484.342157\t time= 0.03979\t cumTime= 1.41061\t edges= 100\t schur= 0\t lambda= 45.846276\t levenbergIter= 2\n",
      "iteration= 33\t chi2= 469.141455\t time= 0.0394763\t cumTime= 1.45008\t edges= 100\t schur= 0\t lambda= 35.536315\t levenbergIter= 2\n",
      "iteration= 34\t chi2= 463.854246\t time= 0.0431763\t cumTime= 1.49326\t edges= 100\t schur= 0\t lambda= 94.763507\t levenbergIter= 3\n",
      "iteration= 35\t chi2= 450.196038\t time= 0.0414149\t cumTime= 1.53467\t edges= 100\t schur= 0\t lambda= 31.587836\t levenbergIter= 1\n",
      "iteration= 36\t chi2= 444.669586\t time= 0.0435631\t cumTime= 1.57824\t edges= 100\t schur= 0\t lambda= 84.234228\t levenbergIter= 3\n",
      "iteration= 37\t chi2= 429.400998\t time= 0.0406395\t cumTime= 1.61888\t edges= 100\t schur= 0\t lambda= 56.156152\t levenbergIter= 1\n",
      "iteration= 38\t chi2= 416.006405\t time= 0.0396173\t cumTime= 1.65849\t edges= 100\t schur= 0\t lambda= 37.437435\t levenbergIter= 2\n",
      "iteration= 39\t chi2= 410.885796\t time= 0.0397855\t cumTime= 1.69828\t edges= 100\t schur= 0\t lambda= 49.916580\t levenbergIter= 2\n",
      "iteration= 40\t chi2= 389.771295\t time= 0.0426717\t cumTime= 1.74095\t edges= 100\t schur= 0\t lambda= 66.555440\t levenbergIter= 2\n",
      "iteration= 41\t chi2= 372.777323\t time= 0.0424741\t cumTime= 1.78342\t edges= 100\t schur= 0\t lambda= 88.740586\t levenbergIter= 2\n",
      "iteration= 42\t chi2= 360.258266\t time= 0.0374394\t cumTime= 1.82086\t edges= 100\t schur= 0\t lambda= 59.160391\t levenbergIter= 1\n",
      "iteration= 43\t chi2= 349.239544\t time= 0.0425184\t cumTime= 1.86338\t edges= 100\t schur= 0\t lambda= 78.880521\t levenbergIter= 2\n",
      "iteration= 44\t chi2= 349.211955\t time= 0.036906\t cumTime= 1.90029\t edges= 100\t schur= 0\t lambda= 52.587014\t levenbergIter= 1\n",
      "iteration= 45\t chi2= 330.482375\t time= 0.0471749\t cumTime= 1.94746\t edges= 100\t schur= 0\t lambda= 70.116019\t levenbergIter= 2\n",
      "iteration= 46\t chi2= 320.759854\t time= 0.0410933\t cumTime= 1.98856\t edges= 100\t schur= 0\t lambda= 93.488025\t levenbergIter= 2\n",
      "iteration= 47\t chi2= 311.395859\t time= 0.0402712\t cumTime= 2.02883\t edges= 100\t schur= 0\t lambda= 62.325350\t levenbergIter= 1\n",
      "iteration= 48\t chi2= 304.197640\t time= 0.0400835\t cumTime= 2.06891\t edges= 100\t schur= 0\t lambda= 41.550233\t levenbergIter= 2\n",
      "iteration= 49\t chi2= 294.982672\t time= 0.0401775\t cumTime= 2.10909\t edges= 100\t schur= 0\t lambda= 55.400311\t levenbergIter= 2\n",
      "iteration= 50\t chi2= 285.953910\t time= 0.0429863\t cumTime= 2.15207\t edges= 100\t schur= 0\t lambda= 73.867082\t levenbergIter= 2\n",
      "iteration= 51\t chi2= 279.881577\t time= 0.0406098\t cumTime= 2.19268\t edges= 100\t schur= 0\t lambda= 81.201190\t levenbergIter= 2\n",
      "iteration= 52\t chi2= 271.908044\t time= 0.0366209\t cumTime= 2.22931\t edges= 100\t schur= 0\t lambda= 54.134127\t levenbergIter= 1\n",
      "iteration= 53\t chi2= 263.132497\t time= 0.04055\t cumTime= 2.26986\t edges= 100\t schur= 0\t lambda= 72.178835\t levenbergIter= 2\n",
      "iteration= 54\t chi2= 257.363739\t time= 0.0470331\t cumTime= 2.31689\t edges= 100\t schur= 0\t lambda= 96.238447\t levenbergIter= 2\n",
      "iteration= 55\t chi2= 250.462076\t time= 0.0465907\t cumTime= 2.36348\t edges= 100\t schur= 0\t lambda= 46.630023\t levenbergIter= 1\n",
      "iteration= 56\t chi2= 244.162939\t time= 0.03997\t cumTime= 2.40345\t edges= 100\t schur= 0\t lambda= 31.086682\t levenbergIter= 2\n",
      "iteration= 57\t chi2= 242.079065\t time= 0.0504352\t cumTime= 2.45388\t edges= 100\t schur= 0\t lambda= 82.897818\t levenbergIter= 3\n",
      "iteration= 58\t chi2= 237.390688\t time= 0.0429258\t cumTime= 2.49681\t edges= 100\t schur= 0\t lambda= 55.265212\t levenbergIter= 1\n",
      "iteration= 59\t chi2= 233.092475\t time= 0.0474728\t cumTime= 2.54428\t edges= 100\t schur= 0\t lambda= 73.686949\t levenbergIter= 2\n",
      "iteration= 60\t chi2= 230.322267\t time= 0.041983\t cumTime= 2.58627\t edges= 100\t schur= 0\t lambda= 98.249266\t levenbergIter= 2\n",
      "iteration= 61\t chi2= 227.448908\t time= 0.0401113\t cumTime= 2.62638\t edges= 100\t schur= 0\t lambda= 65.499510\t levenbergIter= 1\n",
      "iteration= 62\t chi2= 225.680052\t time= 0.0510401\t cumTime= 2.67742\t edges= 100\t schur= 0\t lambda= 43.666340\t levenbergIter= 2\n",
      "iteration= 63\t chi2= 223.680304\t time= 0.0399521\t cumTime= 2.71737\t edges= 100\t schur= 0\t lambda= 58.221787\t levenbergIter= 2\n",
      "iteration= 64\t chi2= 221.967671\t time= 0.040458\t cumTime= 2.75783\t edges= 100\t schur= 0\t lambda= 77.629049\t levenbergIter= 2\n",
      "iteration= 65\t chi2= 220.891219\t time= 0.0492601\t cumTime= 2.80709\t edges= 100\t schur= 0\t lambda= 103.505399\t levenbergIter= 2\n",
      "iteration= 66\t chi2= 219.609206\t time= 0.0430685\t cumTime= 2.85016\t edges= 100\t schur= 0\t lambda= 69.003599\t levenbergIter= 1\n",
      "iteration= 67\t chi2= 218.748118\t time= 0.0436324\t cumTime= 2.89379\t edges= 100\t schur= 0\t lambda= 46.002400\t levenbergIter= 2\n",
      "iteration= 68\t chi2= 217.611761\t time= 0.0397002\t cumTime= 2.93349\t edges= 100\t schur= 0\t lambda= 61.336533\t levenbergIter= 2\n",
      "iteration= 69\t chi2= 216.737032\t time= 0.0433866\t cumTime= 2.97688\t edges= 100\t schur= 0\t lambda= 81.782044\t levenbergIter= 2\n",
      "iteration= 70\t chi2= 216.177378\t time= 0.0420097\t cumTime= 3.01889\t edges= 100\t schur= 0\t lambda= 95.795379\t levenbergIter= 2\n",
      "iteration= 71\t chi2= 215.324060\t time= 0.0382975\t cumTime= 3.05718\t edges= 100\t schur= 0\t lambda= 63.863586\t levenbergIter= 1\n",
      "iteration= 72\t chi2= 214.725915\t time= 0.0457368\t cumTime= 3.10292\t edges= 100\t schur= 0\t lambda= 65.792319\t levenbergIter= 2\n",
      "iteration= 73\t chi2= 214.220842\t time= 0.0407582\t cumTime= 3.14368\t edges= 100\t schur= 0\t lambda= 78.434206\t levenbergIter= 2\n",
      "iteration= 74\t chi2= 213.880090\t time= 0.0394095\t cumTime= 3.18309\t edges= 100\t schur= 0\t lambda= 52.289470\t levenbergIter= 1\n",
      "iteration= 75\t chi2= 213.552030\t time= 0.0487278\t cumTime= 3.23181\t edges= 100\t schur= 0\t lambda= 69.719294\t levenbergIter= 2\n",
      "iteration= 76\t chi2= 212.642685\t time= 0.0408966\t cumTime= 3.27271\t edges= 100\t schur= 0\t lambda= 92.959059\t levenbergIter= 2\n",
      "iteration= 77\t chi2= 212.280570\t time= 0.0416525\t cumTime= 3.31436\t edges= 100\t schur= 0\t lambda= 61.972706\t levenbergIter= 1\n",
      "iteration= 78\t chi2= 211.875830\t time= 0.0401414\t cumTime= 3.35451\t edges= 100\t schur= 0\t lambda= 82.630274\t levenbergIter= 2\n",
      "iteration= 79\t chi2= 211.678286\t time= 0.0359697\t cumTime= 3.39048\t edges= 100\t schur= 0\t lambda= 55.086849\t levenbergIter= 1\n",
      "iteration= 80\t chi2= 211.309071\t time= 0.043352\t cumTime= 3.43383\t edges= 100\t schur= 0\t lambda= 73.449133\t levenbergIter= 2\n",
      "iteration= 81\t chi2= 210.779252\t time= 0.0452746\t cumTime= 3.4791\t edges= 100\t schur= 0\t lambda= 97.932177\t levenbergIter= 2\n",
      "iteration= 82\t chi2= 210.421161\t time= 0.0367613\t cumTime= 3.51586\t edges= 100\t schur= 0\t lambda= 65.288118\t levenbergIter= 1\n",
      "iteration= 83\t chi2= 210.062549\t time= 0.0404779\t cumTime= 3.55634\t edges= 100\t schur= 0\t lambda= 87.050824\t levenbergIter= 2\n",
      "iteration= 84\t chi2= 209.917872\t time= 0.0368275\t cumTime= 3.59317\t edges= 100\t schur= 0\t lambda= 58.033883\t levenbergIter= 1\n",
      "iteration= 85\t chi2= 209.481430\t time= 0.0454583\t cumTime= 3.63863\t edges= 100\t schur= 0\t lambda= 77.378510\t levenbergIter= 2\n",
      "iteration= 86\t chi2= 209.071643\t time= 0.0415021\t cumTime= 3.68013\t edges= 100\t schur= 0\t lambda= 103.171347\t levenbergIter= 2\n",
      "iteration= 87\t chi2= 208.780252\t time= 0.0362764\t cumTime= 3.71641\t edges= 100\t schur= 0\t lambda= 34.390449\t levenbergIter= 1\n",
      "iteration= 88\t chi2= 208.682357\t time= 0.0470061\t cumTime= 3.76341\t edges= 100\t schur= 0\t lambda= 91.707864\t levenbergIter= 3\n",
      "iteration= 89\t chi2= 208.425082\t time= 0.0403821\t cumTime= 3.80379\t edges= 100\t schur= 0\t lambda= 61.138576\t levenbergIter= 1\n",
      "iteration= 90\t chi2= 208.238924\t time= 0.0441272\t cumTime= 3.84792\t edges= 100\t schur= 0\t lambda= 81.518101\t levenbergIter= 2\n",
      "iteration= 91\t chi2= 208.118649\t time= 0.0400439\t cumTime= 3.88796\t edges= 100\t schur= 0\t lambda= 108.690802\t levenbergIter= 2\n",
      "iteration= 92\t chi2= 207.968633\t time= 0.0367286\t cumTime= 3.92469\t edges= 100\t schur= 0\t lambda= 47.827025\t levenbergIter= 1\n",
      "iteration= 93\t chi2= 207.822458\t time= 0.0397229\t cumTime= 3.96442\t edges= 100\t schur= 0\t lambda= 39.384237\t levenbergIter= 2\n",
      "iteration= 94\t chi2= 207.720717\t time= 0.0393147\t cumTime= 4.00373\t edges= 100\t schur= 0\t lambda= 52.512316\t levenbergIter= 2\n",
      "iteration= 95\t chi2= 207.662174\t time= 0.0443425\t cumTime= 4.04807\t edges= 100\t schur= 0\t lambda= 70.016422\t levenbergIter= 2\n",
      "iteration= 96\t chi2= 207.522828\t time= 0.0412466\t cumTime= 4.08932\t edges= 100\t schur= 0\t lambda= 93.355229\t levenbergIter= 2\n",
      "iteration= 97\t chi2= 207.462957\t time= 0.0355724\t cumTime= 4.12489\t edges= 100\t schur= 0\t lambda= 62.236819\t levenbergIter= 1\n",
      "iteration= 98\t chi2= 207.384920\t time= 0.0390716\t cumTime= 4.16396\t edges= 100\t schur= 0\t lambda= 82.982426\t levenbergIter= 2\n",
      "iteration= 99\t chi2= 207.330444\t time= 0.0403996\t cumTime= 4.20436\t edges= 100\t schur= 0\t lambda= 110.643235\t levenbergIter= 2\n"
     ]
    },
    {
     "data": {
      "text/plain": [
       "100"
      ]
     },
     "execution_count": 96,
     "metadata": {},
     "output_type": "execute_result"
    }
   ],
   "source": [
    "# perform the optimization\n",
    "optimizer.initialize_optimization()\n",
    "optimizer.set_verbose(verbose)\n",
    "optimizer.optimize(max_iterations)"
   ]
  },
  {
   "cell_type": "code",
   "execution_count": 97,
   "id": "00df1c87-6f84-4dc3-a48f-43ed51a6ca54",
   "metadata": {
    "tags": []
   },
   "outputs": [
    {
     "name": "stdout",
     "output_type": "stream",
     "text": [
      "3.795660600413387 8.018563746750464 0.2847993428810715 -9.667454977352005\n"
     ]
    },
    {
     "data": {
      "text/plain": [
       "<matplotlib.collections.PathCollection at 0x7f8a11af9370>"
      ]
     },
     "execution_count": 97,
     "metadata": {},
     "output_type": "execute_result"
    },
    {
     "data": {
      "image/png": "[encoded data removed]",
      "text/plain": [
       "<Figure size 1200x1200 with 1 Axes>"
      ]
     },
     "metadata": {},
     "output_type": "display_data"
    }
   ],
   "source": [
    "cx_est,cy_est,a_est,b_est = optimizer.vertices()[0].estimate()\n",
    "#est_eclipse_xs, est_eclipse_ys = sample_ellipse(cx_est,cy_est,a_est,b_est)\n",
    "\n",
    "\n",
    "est_eclipse_xs = []\n",
    "est_eclipse_ys = []\n",
    "for i in range(1,num_points):\n",
    "    est_th = optimizer.vertices()[i].estimate()[0]\n",
    "    \n",
    "    est_eclipse_xs.append(cx_est + a_est * np.cos(est_th))\n",
    "    est_eclipse_ys.append(cy_est + b_est * np.sin(est_th))\n",
    "\n",
    "print(cx_est,cy_est,a_est,b_est)\n",
    "\n",
    "dd = np.array(points).T\n",
    "plt.scatter(dd[0,:],dd[1,:])\n",
    "plt.scatter(est_eclipse_xs,est_eclipse_ys)"
   ]
  },
  {
   "cell_type": "code",
   "execution_count": 39,
   "id": "516c8273-17ea-45cc-82bc-d818148de095",
   "metadata": {
    "tags": []
   },
   "outputs": [],
   "source": []
  },
  {
   "cell_type": "code",
   "execution_count": null,
   "id": "6b50b570-ccaa-4fa2-8fb9-b75c7bf7553a",
   "metadata": {},
   "outputs": [],
   "source": []
  }
 ],
 "metadata": {
  "kernelspec": {
   "display_name": "Python 3 (ipykernel)",
   "language": "python",
   "name": "python3"
  },
  "language_info": {
   "codemirror_mode": {
    "name": "ipython",
    "version": 3
   },
   "file_extension": ".py",
   "mimetype": "text/x-python",
   "name": "python",
   "nbconvert_exporter": "python",
   "pygments_lexer": "ipython3",
   "version": "3.8.10"
  }
 },
 "nbformat": 4,
 "nbformat_minor": 5
}
