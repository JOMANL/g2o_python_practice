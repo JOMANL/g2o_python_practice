{
 "cells": [
  {
   "cell_type": "code",
   "execution_count": 1,
   "id": "83f83535-5dfd-47d4-9a87-c1ed9e2923f1",
   "metadata": {
    "tags": []
   },
   "outputs": [
    {
     "name": "stdout",
     "output_type": "stream",
     "text": [
      "env: OMP_NUM_THREADS=10\n",
      "%pylab is deprecated, use %matplotlib inline and import the required libraries.\n",
      "Populating the interactive namespace from numpy and matplotlib\n"
     ]
    }
   ],
   "source": [
    "%matplotlib inline\n",
    "%env OMP_NUM_THREADS=10\n",
    "%pylab inline\n",
    "%load_ext autoreload\n",
    "%autoreload 2\n",
    "plt.rcParams['figure.figsize'] = [12, 12]\n",
    "\n",
    "import cv2\n",
    "from matplotlib.colors import LinearSegmentedColormap\n",
    "\n",
    "from typing import List\n",
    "import random"
   ]
  },
  {
   "cell_type": "code",
   "execution_count": 2,
   "id": "bc867a0c-94a0-45e2-9574-a2b58fff8768",
   "metadata": {
    "tags": []
   },
   "outputs": [],
   "source": [
    "import g2o"
   ]
  },
  {
   "cell_type": "code",
   "execution_count": 3,
   "id": "8379e23d-0dff-4e83-bc7f-97c39269b63b",
   "metadata": {
    "tags": []
   },
   "outputs": [],
   "source": [
    "class VertexEclipse(g2o.VectorXVertex):\n",
    "    \"\"\"A circle parameterized by position x,y with radius a,b \"\"\"\n",
    "\n",
    "    def __init__(self) -> None:\n",
    "        g2o.VectorXVertex.__init__(self)\n",
    "        self.set_dimension(4)\n",
    "        self.set_estimate([0] * 4)\n",
    "\n",
    "    def oplus_impl(self, update) -> None:\n",
    "        self.set_estimate(self.estimate() + update)\n",
    "       \n",
    "class VertexTheta(g2o.VectorXVertex):\n",
    "    \"\"\"A angle of point on eclipse parameterized by theta \"\"\"\n",
    "\n",
    "    def __init__(self) -> None:\n",
    "        g2o.VectorXVertex.__init__(self)\n",
    "        self.set_dimension(1)\n",
    "        self.set_estimate([0])\n",
    "\n",
    "    def oplus_impl(self, update) -> None:\n",
    "        self.set_estimate(self.estimate() + update)\n",
    "    \n",
    "class EdgePointOnEclipse(g2o.VariableVectorXEdge):\n",
    "    def __init__(self) -> None:\n",
    "        g2o.VariableVectorXEdge.__init__(self)\n",
    "        self.set_dimension(1)  # dimension of the error function\n",
    "        self.information()\n",
    "        self.resize(2)  # number of vertices\n",
    "        self.set_measurement([0, 0])  # initial measurement\n",
    "\n",
    "    def compute_error(self):\n",
    "        eclipse = self.vertex(0).estimate()\n",
    "        theta = self.vertex(1).estimate()\n",
    "        \n",
    "        cx = eclipse[0]\n",
    "        cy = eclipse[1]\n",
    "        \n",
    "        a = eclipse[2]\n",
    "        b = eclipse[3]\n",
    "        estimate = np.array([a * np.cos(theta) + cx, b * np.sin(theta) + cy])\n",
    "        \n",
    "        error = np.linalg.norm(self.measurement() -  estimate)\n",
    "        return [error]"
   ]
  },
  {
   "cell_type": "code",
   "execution_count": 4,
   "id": "19842fb0-6c21-4c05-b8bc-b989a0782a20",
   "metadata": {
    "tags": []
   },
   "outputs": [],
   "source": [
    "num_points: int = 100\n",
    "max_iterations: int = 10\n",
    "verbose: bool = True\n",
    "# TODO: Parse from command line\n",
    "\n",
    "# Setup the optimizer\n",
    "optimizer = g2o.SparseOptimizer()\n",
    "solver = g2o.BlockSolverSE3(g2o.LinearSolverDenseSE3())\n",
    "solver = g2o.OptimizationAlgorithmLevenberg(solver)\n",
    "optimizer.set_algorithm(solver)"
   ]
  },
  {
   "cell_type": "code",
   "execution_count": 5,
   "id": "e6f88993-d29a-49ab-bb90-9c784d663d03",
   "metadata": {
    "tags": []
   },
   "outputs": [],
   "source": [
    "# generate random data\n",
    "center: np.ndarray = np.array([4.0, 2.0])\n",
    "A: float = 2.0\n",
    "B: float = 10\n",
    "points: List[np.array] = []\n",
    "\n",
    "for _ in range(num_points):\n",
    "    a = random.gauss(A, 0.05)\n",
    "    b = a * B/A\n",
    "    angle = random.uniform(0.0, 2.0 * np.pi)\n",
    "    points.append(center + np.array([a * np.cos(angle), b * np.sin(angle)]))"
   ]
  },
  {
   "cell_type": "code",
   "execution_count": 6,
   "id": "04953dc1-3cb2-4f70-afed-5d328fa7ac28",
   "metadata": {
    "tags": []
   },
   "outputs": [
    {
     "data": {
      "text/plain": [
       "True"
      ]
     },
     "execution_count": 6,
     "metadata": {},
     "output_type": "execute_result"
    }
   ],
   "source": [
    "eclipse: VertexEclipse = VertexEclipse()\n",
    "eclipse.set_id(0)\n",
    "eclipse.set_estimate([3.0, 3.0, 3.0])  # some initial value for the circle\n",
    "optimizer.add_vertex(eclipse)"
   ]
  },
  {
   "cell_type": "code",
   "execution_count": 7,
   "id": "e6418ac2-ebc1-4dbc-bdba-8394fcaa1427",
   "metadata": {
    "tags": []
   },
   "outputs": [],
   "source": [
    "# 2. add the points we measured\n",
    "for i,point in enumerate(points,1):\n",
    "    \n",
    "    theta: VertexTheta = VertexTheta()\n",
    "    theta.set_id(i)\n",
    "    theta.set_estimate([0])\n",
    "    \n",
    "    optimizer.add_vertex(theta)\n",
    "\n",
    "    edge: EdgePointOnEclipse = EdgePointOnEclipse()\n",
    "    edge.set_information(np.identity(1))\n",
    "  \n",
    "    edge.set_vertex(0, eclipse)\n",
    "    edge.set_vertex(1, theta)\n",
    "\n",
    "    edge.set_measurement(point)\n",
    "    # print(f\"error: {edge.compute_error()}\")\n",
    "    # print(f\"edge slots: {dir(edge)}\")\n",
    "    optimizer.add_edge(edge)"
   ]
  },
  {
   "cell_type": "code",
   "execution_count": 8,
   "id": "35dd9492-19df-45eb-af62-f1419e6e5069",
   "metadata": {
    "tags": []
   },
   "outputs": [
    {
     "name": "stdout",
     "output_type": "stream",
     "text": [
      "Number of vertices: 101\n",
      "Number of edges: 100\n"
     ]
    }
   ],
   "source": [
    "print(f\"Number of vertices: {len(optimizer.vertices())}\")\n",
    "print(f\"Number of edges: {len(optimizer.edges())}\")"
   ]
  },
  {
   "cell_type": "code",
   "execution_count": 9,
   "id": "c90b7255-2e74-4013-8880-459de559e475",
   "metadata": {
    "tags": []
   },
   "outputs": [
    {
     "ename": "IndexError",
     "evalue": "index 3 is out of bounds for axis 0 with size 3",
     "output_type": "error",
     "traceback": [
      "\u001b[0;31m---------------------------------------------------------------------------\u001b[0m",
      "\u001b[0;31mIndexError\u001b[0m                                Traceback (most recent call last)",
      "Cell \u001b[0;32mIn[9], line 4\u001b[0m\n\u001b[1;32m      2\u001b[0m optimizer\u001b[38;5;241m.\u001b[39minitialize_optimization()\n\u001b[1;32m      3\u001b[0m optimizer\u001b[38;5;241m.\u001b[39mset_verbose(verbose)\n\u001b[0;32m----> 4\u001b[0m \u001b[43moptimizer\u001b[49m\u001b[38;5;241;43m.\u001b[39;49m\u001b[43moptimize\u001b[49m\u001b[43m(\u001b[49m\u001b[43mmax_iterations\u001b[49m\u001b[43m)\u001b[49m\n",
      "Cell \u001b[0;32mIn[3], line 39\u001b[0m, in \u001b[0;36mEdgePointOnEclipse.compute_error\u001b[0;34m(self)\u001b[0m\n\u001b[1;32m     36\u001b[0m cy \u001b[38;5;241m=\u001b[39m eclipse[\u001b[38;5;241m1\u001b[39m]\n\u001b[1;32m     38\u001b[0m a \u001b[38;5;241m=\u001b[39m eclipse[\u001b[38;5;241m2\u001b[39m]\n\u001b[0;32m---> 39\u001b[0m b \u001b[38;5;241m=\u001b[39m \u001b[43meclipse\u001b[49m\u001b[43m[\u001b[49m\u001b[38;5;241;43m3\u001b[39;49m\u001b[43m]\u001b[49m\n\u001b[1;32m     40\u001b[0m estimate \u001b[38;5;241m=\u001b[39m np\u001b[38;5;241m.\u001b[39marray([a \u001b[38;5;241m*\u001b[39m np\u001b[38;5;241m.\u001b[39mcos(theta) \u001b[38;5;241m+\u001b[39m cx, b \u001b[38;5;241m*\u001b[39m np\u001b[38;5;241m.\u001b[39msin(theta) \u001b[38;5;241m+\u001b[39m cy])\n\u001b[1;32m     42\u001b[0m error \u001b[38;5;241m=\u001b[39m np\u001b[38;5;241m.\u001b[39mlinalg\u001b[38;5;241m.\u001b[39mnorm(\u001b[38;5;28mself\u001b[39m\u001b[38;5;241m.\u001b[39mmeasurement() \u001b[38;5;241m-\u001b[39m  estimate)\n",
      "\u001b[0;31mIndexError\u001b[0m: index 3 is out of bounds for axis 0 with size 3"
     ]
    }
   ],
   "source": [
    "# perform the optimization\n",
    "optimizer.initialize_optimization()\n",
    "optimizer.set_verbose(verbose)\n",
    "optimizer.optimize(max_iterations)"
   ]
  },
  {
   "cell_type": "code",
   "execution_count": 43,
   "id": "8cea285a-7d6a-4e2a-9ec0-5ea9a6ca9bd2",
   "metadata": {
    "tags": []
   },
   "outputs": [
    {
     "data": {
      "text/plain": [
       "<matplotlib.collections.PathCollection at 0x7f33868c5fd0>"
      ]
     },
     "execution_count": 43,
     "metadata": {},
     "output_type": "execute_result"
    },
    {
     "data": {
      "image/png": "[encoded data removed]",
      "text/plain": [
       "<Figure size 1200x1200 with 1 Axes>"
      ]
     },
     "metadata": {},
     "output_type": "display_data"
    }
   ],
   "source": [
    "dd = np.array(points).T\n",
    "plt.scatter(dd[0,:],dd[1,:])"
   ]
  },
  {
   "cell_type": "code",
   "execution_count": 38,
   "id": "516c8273-17ea-45cc-82bc-d818148de095",
   "metadata": {
    "tags": []
   },
   "outputs": [
    {
     "data": {
      "text/plain": [
       "(2, 100)"
      ]
     },
     "execution_count": 38,
     "metadata": {},
     "output_type": "execute_result"
    }
   ],
   "source": [
    "dd.shape"
   ]
  },
  {
   "cell_type": "code",
   "execution_count": null,
   "id": "6b50b570-ccaa-4fa2-8fb9-b75c7bf7553a",
   "metadata": {},
   "outputs": [],
   "source": []
  }
 ],
 "metadata": {
  "kernelspec": {
   "display_name": "Python 3 (ipykernel)",
   "language": "python",
   "name": "python3"
  },
  "language_info": {
   "codemirror_mode": {
    "name": "ipython",
    "version": 3
   },
   "file_extension": ".py",
   "mimetype": "text/x-python",
   "name": "python",
   "nbconvert_exporter": "python",
   "pygments_lexer": "ipython3",
   "version": "3.8.10"
  }
 },
 "nbformat": 4,
 "nbformat_minor": 5
}
