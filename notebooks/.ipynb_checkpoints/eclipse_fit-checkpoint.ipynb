{
 "cells": [
  {
   "cell_type": "code",
   "execution_count": 33,
   "id": "83f83535-5dfd-47d4-9a87-c1ed9e2923f1",
   "metadata": {
    "tags": []
   },
   "outputs": [
    {
     "name": "stdout",
     "output_type": "stream",
     "text": [
      "env: OMP_NUM_THREADS=10\n",
      "%pylab is deprecated, use %matplotlib inline and import the required libraries.\n",
      "Populating the interactive namespace from numpy and matplotlib\n",
      "The autoreload extension is already loaded. To reload it, use:\n",
      "  %reload_ext autoreload\n"
     ]
    },
    {
     "name": "stderr",
     "output_type": "stream",
     "text": [
      "/home/yohei/.cache/pypoetry/virtualenvs/poetry-G7oDPh5L-py3.8/lib/python3.8/site-packages/IPython/core/magics/pylab.py:162: UserWarning: pylab import has clobbered these variables: ['angle', 'random']\n",
      "`%matplotlib` prevents importing * from pylab and numpy\n",
      "  warn(\"pylab import has clobbered these variables: %s\"  % clobbered +\n"
     ]
    }
   ],
   "source": [
    "%matplotlib inline\n",
    "%env OMP_NUM_THREADS=10\n",
    "%pylab inline\n",
    "%load_ext autoreload\n",
    "%autoreload 2\n",
    "plt.rcParams['figure.figsize'] = [12, 12]\n",
    "\n",
    "import cv2\n",
    "from matplotlib.colors import LinearSegmentedColormap\n",
    "\n",
    "from typing import List\n",
    "import random"
   ]
  },
  {
   "cell_type": "code",
   "execution_count": 54,
   "id": "bc867a0c-94a0-45e2-9574-a2b58fff8768",
   "metadata": {
    "tags": []
   },
   "outputs": [],
   "source": [
    "import g2o\n",
    "\n",
    "def est_eclipse_from_points(points):\n",
    "    \n",
    "    points = np.array(points)\n",
    "    \n",
    "    init_cx = points[:,0].mean()\n",
    "    init_cy = points[:,1].mean()\n",
    "    \n",
    "    data= (np.array(points) - np.array([init_cx,init_cy])).T\n",
    "    U,S,V = np.linalg.svd(data)\n",
    "    long_ax_angle = np.arctan2(U[1][0], U[0][0])\n",
    "    \n",
    "    est_rot = get_rot_mat_from_angle(long_ax_angle)\n",
    "    \n",
    "    axis_ratio = S[0] / S[1]\n",
    "    \n",
    "    points = (est_rot.T @ points.T).T\n",
    "    \n",
    "    angles = [np.arctan2(axis_ratio * (y-init_cy), (x-init_cx) ) for x,y in zip(points[:,0],points[:,1])]\n",
    "       \n",
    "    return angles,init_cx,init_cy,long_ax_angle\n",
    "\n",
    "def get_rot_mat_from_angle(phi):\n",
    "    return np.array([[np.cos(phi),-np.sin(phi)],[np.sin(phi),np.cos(phi)]])"
   ]
  },
  {
   "cell_type": "code",
   "execution_count": 55,
   "id": "8379e23d-0dff-4e83-bc7f-97c39269b63b",
   "metadata": {
    "tags": []
   },
   "outputs": [],
   "source": [
    "class VertexEclipse(g2o.VectorXVertex):\n",
    "    \"\"\"A circle parameterized by position x,y with radius a,b \"\"\"\n",
    "\n",
    "    def __init__(self) -> None:\n",
    "        g2o.VectorXVertex.__init__(self)\n",
    "        self.set_dimension(5)\n",
    "        self.set_estimate([0] * 5)\n",
    "\n",
    "    def oplus_impl(self, update) -> None:\n",
    "        self.set_estimate(self.estimate() + update)\n",
    "       \n",
    "class VertexTheta(g2o.VectorXVertex):\n",
    "    \"\"\"A angle of point on eclipse parameterized by theta \"\"\"\n",
    "\n",
    "    def __init__(self) -> None:\n",
    "        g2o.VectorXVertex.__init__(self)\n",
    "        self.set_dimension(1)\n",
    "        self.set_estimate([0])\n",
    "\n",
    "    def oplus_impl(self, update) -> None:\n",
    "        self.set_estimate(self.estimate() + update)\n",
    "    \n",
    "class EdgePointOnEclipse(g2o.VariableVectorXEdge):\n",
    "    def __init__(self) -> None:\n",
    "        g2o.VariableVectorXEdge.__init__(self)\n",
    "        self.set_dimension(1)  # dimension of the error function\n",
    "        self.information()\n",
    "        self.resize(2)  # number of vertices\n",
    "        self.set_measurement([0, 0])  # initial measurement\n",
    "\n",
    "    def compute_error(self):\n",
    "        eclipse = self.vertex(0).estimate()\n",
    "        theta = self.vertex(1).estimate()\n",
    "        \n",
    "        cx = eclipse[0]\n",
    "        cy = eclipse[1]\n",
    "        \n",
    "        a = eclipse[2]\n",
    "        b = eclipse[3]\n",
    "        phi = eclipse[4]\n",
    "        \n",
    "        R = get_rot_mat_from_angle(phi)\n",
    "        \n",
    "        estimate = R @ np.array([a * np.cos(theta) + cx, b * np.sin(theta) + cy]).squeeze().T\n",
    "        \n",
    "        error = np.linalg.norm(self.measurement() -  estimate)\n",
    "        #print(self.measurement() ,  estimate)\n",
    "        return [error]"
   ]
  },
  {
   "cell_type": "code",
   "execution_count": 56,
   "id": "19842fb0-6c21-4c05-b8bc-b989a0782a20",
   "metadata": {
    "tags": []
   },
   "outputs": [],
   "source": [
    "num_points: int = 100\n",
    "max_iterations: int = 100\n",
    "verbose: bool = True\n",
    "# TODO: Parse from command line\n",
    "\n",
    "# Setup the optimizer\n",
    "optimizer = g2o.SparseOptimizer()\n",
    "solver = g2o.BlockSolverSE3(g2o.LinearSolverEigenSE3())\n",
    "solver = g2o.OptimizationAlgorithmLevenberg(solver)\n",
    "optimizer.set_algorithm(solver)"
   ]
  },
  {
   "cell_type": "code",
   "execution_count": 57,
   "id": "9428e030-b4eb-4c20-8ec8-1ac0c3115938",
   "metadata": {
    "tags": []
   },
   "outputs": [
    {
     "data": {
      "text/plain": [
       "(2,)"
      ]
     },
     "execution_count": 57,
     "metadata": {},
     "output_type": "execute_result"
    }
   ],
   "source": [
    "np.array([1,1]).shape"
   ]
  },
  {
   "cell_type": "code",
   "execution_count": 58,
   "id": "e6f88993-d29a-49ab-bb90-9c784d663d03",
   "metadata": {
    "tags": []
   },
   "outputs": [],
   "source": [
    "# generate random data\n",
    "center: np.ndarray = np.array([4, 8])\n",
    "A: float = 2\n",
    "B: float = 12\n",
    "points: List[np.array] = []\n",
    "\n",
    "phi = 30\n",
    "\n",
    "R = get_rot_mat_from_angle(phi/180*np.pi)\n",
    "\n",
    "debug = []\n",
    "\n",
    "for _ in range(num_points):\n",
    "    a = random.gauss(A, 0.005)\n",
    "    b = random.gauss(B, 0.005)\n",
    "    angle = random.uniform(0.0, 2.0 * np.pi)\n",
    "    points.append(center + R @ np.array([a * np.cos(angle), b * np.sin(angle)]).T)\n",
    "    \n",
    "    debug.append(angle)"
   ]
  },
  {
   "cell_type": "code",
   "execution_count": 59,
   "id": "04953dc1-3cb2-4f70-afed-5d328fa7ac28",
   "metadata": {
    "tags": []
   },
   "outputs": [
    {
     "name": "stdout",
     "output_type": "stream",
     "text": [
      "4.312747455159674 7.367541274964347 119.97406241438107\n"
     ]
    },
    {
     "data": {
      "text/plain": [
       "True"
      ]
     },
     "execution_count": 59,
     "metadata": {},
     "output_type": "execute_result"
    }
   ],
   "source": [
    "est_angles,init_cx,init_cy,init_phi = est_eclipse_from_points(points)\n",
    "print(init_cx,init_cy,init_phi / np.pi * 180)\n",
    "\n",
    "eclipse: VertexEclipse = VertexEclipse()\n",
    "eclipse.set_id(0)\n",
    "eclipse.set_estimate([init_cx, init_cy, 1,1,init_phi])  # some initial value for the circle\n",
    "optimizer.add_vertex(eclipse)"
   ]
  },
  {
   "cell_type": "code",
   "execution_count": 60,
   "id": "22767223-d093-4b0a-bcc1-9e9345cba476",
   "metadata": {
    "tags": []
   },
   "outputs": [
    {
     "name": "stdout",
     "output_type": "stream",
     "text": [
      "-2.6937028816604602 3.6556564064662216\n",
      "-0.29284494923948595 2.4171451772778423\n",
      "-1.318052262451948 0.0185665152200129\n",
      "-2.665747391753002 3.6205133204748217\n",
      "-2.07035778197807 6.082065369437341\n",
      "-2.8015940198743827 5.379103752464126\n",
      "-0.22597971141410422 1.9073304800824336\n",
      "-1.4289100755434248 6.27036971701661\n",
      "-2.8952668749531396 4.500451895687408\n",
      "-2.8429968153158347 5.207314586713379\n",
      "-2.8931033210263806 4.43009499611775\n",
      "-0.3509093328479722 0.7321898134008961\n",
      "-0.8349453656954064 0.19530401977365322\n",
      "-2.366735900574266 5.949691082490667\n",
      "-0.32082245870561005 0.8259554318641253\n",
      "-0.24309104416909005 1.2655808489774538\n",
      "-2.1274107133921802 3.3235225256440564\n",
      "-2.7332960668568775 5.560010811492161\n",
      "-1.2774382129999506 3.130407148445969\n",
      "-1.0864554308375456 0.09145040136992107\n",
      "-1.0996220193007036 3.0874132794768046\n",
      "-2.185150719329143 6.037941616089825\n",
      "-0.4882846596901831 0.4704952101051557\n",
      "-0.9969059096491408 3.0588094229796594\n",
      "-2.8960865199926142 4.609860489564676\n",
      "-0.29741316861581146 0.9178606177748815\n",
      "-2.8741204647409635 4.994950965295164\n",
      "-0.5360329574756673 0.4131463775736347\n",
      "-0.4162578774982615 0.5840684382098443\n",
      "-2.8721661733725354 5.015267013634813\n",
      "-2.883420891088481 4.899956064218638\n",
      "-2.878129876270875 4.957233711504369\n",
      "-0.3383252881664688 2.5547584965040455\n",
      "-0.22344290369258815 1.8286874178584054\n",
      "-0.6584303455832454 2.9223911296881524\n",
      "-2.8005931334683147 5.382733737172794\n",
      "-0.4080839176262789 0.5997092817945892\n",
      "-0.2746853849839123 2.3393258454063552\n",
      "-2.8746965670959366 4.194264095826217\n",
      "-2.847456099075903 4.029496539767057\n",
      "-0.6948486209007911 0.2766401841038063\n",
      "-0.24294871306669552 2.1344045480331815\n",
      "-0.24151550589121862 2.1195301433104876\n",
      "-2.8875190335750256 4.8412805482429375\n",
      "-2.3109448631237575 3.385595244941732\n",
      "-0.23624918088926986 2.064502144853953\n",
      "-2.753441856585796 3.7513775922628385\n",
      "-2.8821034241439656 4.917602777090397\n",
      "-0.26363902136090833 2.2810389097057175\n",
      "-2.830475335391475 5.2674726096288556\n",
      "-0.28752256708296015 2.39683391328205\n",
      "-0.5715852456010948 0.37616525772622234\n",
      "-2.2765341268319297 5.997205121579469\n",
      "-1.777484026386761 6.174281404309526\n",
      "-2.8823335628451625 4.269042468588253\n",
      "-2.537583558593785 3.50431089247125\n",
      "-0.3333301638112226 2.543389644116344\n",
      "-0.4459364399262706 2.7433962803887573\n",
      "-2.8275361888568065 5.279028967456346\n",
      "-0.24992401781921825 2.1912180531753935\n",
      "-2.698705107923701 3.662642392726454\n",
      "-2.89553776768894 4.654659425765388\n",
      "-2.874238718317625 4.194805613324462\n",
      "-2.1219263114554145 3.321752621129553\n",
      "-0.2897888192072858 0.951992954251042\n",
      "-2.866302656765705 4.133384370850179\n",
      "-2.7212457397656546 5.585051327605894\n",
      "-1.863948285187872 3.2559483382009713\n",
      "-2.8196432758386663 5.3121229940692825\n",
      "-0.388573098240926 0.6399263643751109\n",
      "-0.23513498254443693 2.0529115409648724\n",
      "-1.9409009598295588 3.274120145425679\n",
      "-2.874677880111075 4.992289220454156\n",
      "-0.7334623032429366 2.9613813292362186\n",
      "-0.2856075435963719 0.9720913184581699\n",
      "-0.2765696361968341 1.0199884625808948\n",
      "-2.701441897594817 3.6666108075917285\n",
      "-0.30939803808573646 2.474891490147532\n",
      "-1.4668051121476366 6.259907805411368\n",
      "-0.3933635963636042 0.6292932908252962\n",
      "-1.3133348748583187 3.1385206147924176\n",
      "-2.731080120900935 3.7122685017946697\n",
      "-1.184689709844482 0.05893402530128057\n",
      "-0.9315972061541625 0.15074311945571012\n",
      "-0.47046432161936985 2.7735648151485797\n",
      "-2.863277349280004 4.114991429862611\n",
      "-2.851675748982691 5.1585616017148865\n",
      "-0.24634980628909375 1.2317699689587283\n",
      "-2.2190321325472455 6.023331219063814\n",
      "-0.657110874695629 2.921834349959135\n",
      "-0.6474926793045036 2.9160118307736047\n",
      "-2.8895582857694726 4.815514755891957\n",
      "-1.0612602436437129 0.10051504616630891\n",
      "-2.5455916862257464 5.819406184164121\n",
      "-2.1305604602330797 3.324425018370074\n",
      "-0.5344489841439932 2.8360069358835287\n",
      "-1.4699240747971678 3.1721088081312985\n",
      "-0.29165582638870496 0.9434602646954666\n",
      "-2.88246134452595 4.271742779861566\n",
      "-0.2910944552464718 0.94588273302718\n"
     ]
    }
   ],
   "source": [
    "for a,b in zip(est_angles,debug):\n",
    "    print(a,b)"
   ]
  },
  {
   "cell_type": "code",
   "execution_count": 30,
   "id": "e6418ac2-ebc1-4dbc-bdba-8394fcaa1427",
   "metadata": {
    "tags": []
   },
   "outputs": [
    {
     "name": "stdout",
     "output_type": "stream",
     "text": [
      "2.8412720266789253 3.4692591136444006\n",
      "3.130577528719419 4.545039985771949\n",
      "-2.8691458302926685 5.795250923810256\n",
      "3.0655356748453073 4.139495581109789\n",
      "1.0884077985358225 2.941449229037809\n",
      "0.0503074227859086 1.9781051056525472\n",
      "-0.05345713844170584 1.451983330240332\n",
      "2.533165237334675 3.226499716311325\n",
      "0.061534243503868435 2.028904244449453\n",
      "-1.891124652771745 0.06425730429644987\n",
      "-2.807784296763033 5.899573902017099\n",
      "2.0108201397566163 3.0853521456380286\n",
      "0.0061411995633258495 1.7633760530446971\n",
      "-0.16274470263654917 0.9906280481801409\n",
      "0.2846489927823687 2.586216747311249\n",
      "3.10926774232899 4.403183827245607\n",
      "-0.012486744494363551 1.6655136830530501\n",
      "-0.07338645394187333 1.3522960163037077\n",
      "-0.37203879721203853 0.5780348420938687\n",
      "-2.834163631992747 5.859792824251637\n",
      "-0.2937908019403931 0.685390865189902\n",
      "-3.1353275666309153 4.661357788178748\n",
      "2.842926185794878 3.4738799558889664\n",
      "-0.5967154796222619 0.39675517745172295\n",
      "-1.2717325920577918 0.18485685571672805\n",
      "-0.1294885089610362 1.1107738187179335\n",
      "0.030769299116501257 1.8856754969623266\n",
      "-2.828058906016012 5.87035661414111\n",
      "2.10921306770117 3.1039378384796117\n",
      "-2.7400132570016424 5.9835489455370565\n",
      "1.5028113388467943 3.00690517098817\n",
      "-3.0974583299893164 4.912736256606769\n",
      "0.05870928530063706 2.014724280796304\n",
      "2.9432417840612155 3.666587997587717\n",
      "2.3935797024296472 3.1743086325565466\n",
      "-0.2999847712313772 0.6756907496229445\n",
      "0.13482777681910543 2.291553125451566\n",
      "2.61718425656014 3.26809822357517\n",
      "-0.5366614932811853 0.43317392319546777\n",
      "0.0622649910244768 2.0319502357453385\n",
      "-3.1289656593285535 4.704505942551412\n",
      "2.966336224347493 3.732165385819874\n",
      "-3.0103536767891135 5.381271402758451\n",
      "-2.956609187297046 5.5801913893533674\n",
      "3.0428738687624044 4.025041909417666\n",
      "3.0492440646273042 4.055017161771775\n",
      "3.0071562410861428 3.872774289869138\n",
      "-0.019613413537855954 1.6284655511981871\n",
      "-0.21836723054468002 0.8382726247666741\n",
      "-0.020051831922083672 1.6259833007024158\n",
      "-2.951570343086225 5.5978720547523615\n",
      "-2.929087727144787 5.660629047996002\n",
      "2.3759585842136066 3.168436864377704\n",
      "0.6180832646235717 2.820916611551781\n",
      "-2.86115426314186 5.811358417252159\n",
      "-2.516220275754493 6.151784058615034\n",
      "3.106525777676907 4.385335709306581\n",
      "0.017734983323916726 1.8228702843538227\n",
      "2.979442543221468 3.7699109234774353\n",
      "2.345488229228091 3.159326215824021\n",
      "2.6845563835062167 3.31038368672893\n",
      "0.11756954077447584 2.2392343880768326\n",
      "3.0741038080149803 4.190182808838324\n",
      "-0.009529606669037885 1.6815838731430615\n",
      "-3.109410931774179 4.834945354554052\n",
      "-0.03257418001075902 1.5598650992661351\n",
      "2.5800448061425505 3.2478962247283163\n",
      "-0.041804390165007754 1.5117300104899922\n",
      "-3.019163624807144 5.342298279051223\n",
      "-2.957934302167781 5.575328030278229\n",
      "0.11542541041569072 2.231972637113524\n",
      "2.5364279255564854 3.227594643258346\n",
      "-0.12040164245191548 1.145770857946568\n",
      "-1.4827908063763453 0.14328000386365938\n",
      "-2.307191254393012 6.239886972017618\n",
      "0.44449506876691747 2.73251208484488\n",
      "2.385293300947459 3.1714321292838843\n",
      "-3.12568182129999 4.726624202459662\n",
      "-0.037484053905464075 1.5342838311647031\n",
      "2.464994681852336 3.198346621726596\n",
      "-2.618068528253578 6.0900921769832985\n",
      "0.10248001162622364 2.190622432711827\n",
      "0.045229799670420505 1.9557829780818952\n",
      "1.9282956473911816 3.0709057701228177\n",
      "-0.021073979123416176 1.6205192287117987\n",
      "-0.09065259949814342 1.2719136178741985\n",
      "0.17013933855916138 2.3865385009912514\n",
      "-3.0848593575036 4.991996078049121\n",
      "-0.1716489610313223 0.9634518828014907\n",
      "2.8251487266535307 3.4483463691080662\n",
      "-3.039824721631304 5.245045464299444\n",
      "0.15937815142900957 2.360371755121734\n",
      "0.5546935418038772 2.7941852115537977\n",
      "3.0002637776073384 3.8443487373521092\n",
      "0.19726555717021174 2.447325364312896\n",
      "0.048815227146383686 1.971059924802927\n",
      "0.4774325817860034 2.7537059162135233\n",
      "-0.11717727482868527 1.1597437525487029\n",
      "0.010446822941276915 1.7852256589679323\n",
      "-0.04253733933552497 1.507501452665802\n"
     ]
    }
   ],
   "source": [
    "# 2. add the points we measured\n",
    "\n",
    "est_rot = get_rot_mat_from_angle(init_phi)\n",
    "\n",
    "for i,point in enumerate(points,1):\n",
    "    \n",
    "    p_ = est_rot.T @ ( point - np.array([init_cx, init_cy]) )\n",
    "    \n",
    "    t = np.arctan2(p_[1],p_[0])\n",
    "    print(t,debug[i-1])\n",
    "    \n",
    "    theta: VertexTheta = VertexTheta()\n",
    "    theta.set_id(i)\n",
    "    theta.set_estimate([t])\n",
    "    \n",
    "    optimizer.add_vertex(theta)\n",
    "\n",
    "    edge: EdgePointOnEclipse = EdgePointOnEclipse()\n",
    "    #edge.set_information(np.identity(2))\n",
    "  \n",
    "    edge.set_vertex(0, eclipse)\n",
    "    edge.set_vertex(1, theta)\n",
    "\n",
    "    edge.set_measurement(point)\n",
    "    # print(f\"error: {edge.compute_error()}\")\n",
    "    # print(f\"edge slots: {dir(edge)}\")\n",
    "    optimizer.add_edge(edge)"
   ]
  },
  {
   "cell_type": "code",
   "execution_count": 20,
   "id": "a33d7f7b-b12b-4069-8cee-78f0cceeb570",
   "metadata": {
    "tags": []
   },
   "outputs": [
    {
     "data": {
      "text/plain": [
       "array([[1.]])"
      ]
     },
     "execution_count": 20,
     "metadata": {},
     "output_type": "execute_result"
    }
   ],
   "source": [
    "np.identity(1)"
   ]
  },
  {
   "cell_type": "code",
   "execution_count": 21,
   "id": "35dd9492-19df-45eb-af62-f1419e6e5069",
   "metadata": {
    "tags": []
   },
   "outputs": [
    {
     "name": "stdout",
     "output_type": "stream",
     "text": [
      "Number of vertices: 101\n",
      "Number of edges: 100\n"
     ]
    }
   ],
   "source": [
    "print(f\"Number of vertices: {len(optimizer.vertices())}\")\n",
    "print(f\"Number of edges: {len(optimizer.edges())}\")"
   ]
  },
  {
   "cell_type": "code",
   "execution_count": 22,
   "id": "c90b7255-2e74-4013-8880-459de559e475",
   "metadata": {
    "tags": []
   },
   "outputs": [
    {
     "name": "stderr",
     "output_type": "stream",
     "text": [
      "Cholesky failure, writing debug.txt (Hessian loadable by Octave)\n",
      "Cholesky failure, writing debug.txt (Hessian loadable by Octave)\n",
      "Cholesky failure, writing debug.txt (Hessian loadable by Octave)\n",
      "Cholesky failure, writing debug.txt (Hessian loadable by Octave)\n",
      "Cholesky failure, writing debug.txt (Hessian loadable by Octave)\n",
      "Cholesky failure, writing debug.txt (Hessian loadable by Octave)\n",
      "iteration= 0\t chi2= 0.000000\t time= 0.177786\t cumTime= 0.177786\t edges= 100\t schur= 0\t lambda= 0.000000\t levenbergIter= 7\n",
      "iteration= 1\t chi2= 0.000000\t time= 0.0570694\t cumTime= 0.234856\t edges= 100\t schur= 0\t lambda= 0.000000\t levenbergIter= 1\n",
      "iteration= 2\t chi2= 0.000000\t time= 0.0577455\t cumTime= 0.292601\t edges= 100\t schur= 0\t lambda= 0.000000\t levenbergIter= 1\n",
      "iteration= 3\t chi2= 0.000000\t time= 0.0592155\t cumTime= 0.351817\t edges= 100\t schur= 0\t lambda= 0.000000\t levenbergIter= 1\n",
      "iteration= 4\t chi2= 0.000000\t time= 0.0571356\t cumTime= 0.408952\t edges= 100\t schur= 0\t lambda= 0.000000\t levenbergIter= 1\n",
      "iteration= 5\t chi2= 0.000000\t time= 0.0617536\t cumTime= 0.470706\t edges= 100\t schur= 0\t lambda= 0.000000\t levenbergIter= 1\n",
      "iteration= 6\t chi2= 0.000000\t time= 0.0638986\t cumTime= 0.534605\t edges= 100\t schur= 0\t lambda= 0.000000\t levenbergIter= 1\n",
      "Cholesky failure, writing debug.txt (Hessian loadable by Octave)\n",
      "iteration= 7\t chi2= 0.000000\t time= 0.0836606\t cumTime= 0.618265\t edges= 100\t schur= 0\t lambda= 0.000000\t levenbergIter= 2\n",
      "iteration= 8\t chi2= 0.000000\t time= 0.0631887\t cumTime= 0.681454\t edges= 100\t schur= 0\t lambda= 0.000000\t levenbergIter= 2\n",
      "iteration= 9\t chi2= 0.000000\t time= 0.0632555\t cumTime= 0.744709\t edges= 100\t schur= 0\t lambda= 0.000000\t levenbergIter= 1\n",
      "Cholesky failure, writing debug.txt (Hessian loadable by Octave)\n",
      "iteration= 10\t chi2= 0.000000\t time= 0.0782853\t cumTime= 0.822995\t edges= 100\t schur= 0\t lambda= 0.000000\t levenbergIter= 2\n",
      "iteration= 11\t chi2= 0.000000\t time= 0.0604363\t cumTime= 0.883431\t edges= 100\t schur= 0\t lambda= 0.000000\t levenbergIter= 1\n",
      "Cholesky failure, writing debug.txt (Hessian loadable by Octave)\n",
      "iteration= 12\t chi2= 0.000000\t time= 0.0740108\t cumTime= 0.957442\t edges= 100\t schur= 0\t lambda= 0.000000\t levenbergIter= 2\n",
      "iteration= 13\t chi2= 0.000000\t time= 0.0669426\t cumTime= 1.02438\t edges= 100\t schur= 0\t lambda= 0.000000\t levenbergIter= 2\n",
      "iteration= 14\t chi2= 0.000000\t time= 0.0634604\t cumTime= 1.08784\t edges= 100\t schur= 0\t lambda= 0.000000\t levenbergIter= 1\n",
      "Cholesky failure, writing debug.txt (Hessian loadable by Octave)\n",
      "iteration= 15\t chi2= 0.000000\t time= 0.0867458\t cumTime= 1.17459\t edges= 100\t schur= 0\t lambda= 0.000000\t levenbergIter= 2\n",
      "iteration= 16\t chi2= 0.000000\t time= 0.0622283\t cumTime= 1.23682\t edges= 100\t schur= 0\t lambda= 0.000000\t levenbergIter= 1\n",
      "Cholesky failure, writing debug.txt (Hessian loadable by Octave)\n",
      "iteration= 17\t chi2= 0.000000\t time= 0.081333\t cumTime= 1.31815\t edges= 100\t schur= 0\t lambda= 0.000000\t levenbergIter= 2\n",
      "iteration= 18\t chi2= 0.000000\t time= 0.0556717\t cumTime= 1.37382\t edges= 100\t schur= 0\t lambda= 0.000000\t levenbergIter= 1\n",
      "Cholesky failure, writing debug.txt (Hessian loadable by Octave)\n",
      "iteration= 19\t chi2= 0.000000\t time= 0.0890122\t cumTime= 1.46284\t edges= 100\t schur= 0\t lambda= 0.000000\t levenbergIter= 2\n",
      "iteration= 20\t chi2= 0.000000\t time= 0.0603626\t cumTime= 1.5232\t edges= 100\t schur= 0\t lambda= 0.000000\t levenbergIter= 2\n",
      "iteration= 21\t chi2= 0.000000\t time= 0.0563232\t cumTime= 1.57952\t edges= 100\t schur= 0\t lambda= 0.000000\t levenbergIter= 1\n",
      "Cholesky failure, writing debug.txt (Hessian loadable by Octave)\n",
      "iteration= 22\t chi2= 0.000000\t time= 0.0774658\t cumTime= 1.65699\t edges= 100\t schur= 0\t lambda= 0.000000\t levenbergIter= 2\n",
      "iteration= 23\t chi2= 0.000000\t time= 0.0622832\t cumTime= 1.71927\t edges= 100\t schur= 0\t lambda= 0.000000\t levenbergIter= 1\n",
      "Cholesky failure, writing debug.txt (Hessian loadable by Octave)\n",
      "iteration= 24\t chi2= 0.000000\t time= 0.0806433\t cumTime= 1.79991\t edges= 100\t schur= 0\t lambda= 0.000000\t levenbergIter= 2\n",
      "iteration= 25\t chi2= 0.000000\t time= 0.0626219\t cumTime= 1.86254\t edges= 100\t schur= 0\t lambda= 0.000000\t levenbergIter= 1\n",
      "Cholesky failure, writing debug.txt (Hessian loadable by Octave)\n",
      "iteration= 26\t chi2= 0.000000\t time= 0.0724993\t cumTime= 1.93504\t edges= 100\t schur= 0\t lambda= 0.000000\t levenbergIter= 2\n",
      "iteration= 27\t chi2= 0.000000\t time= 0.0720878\t cumTime= 2.00712\t edges= 100\t schur= 0\t lambda= 0.000000\t levenbergIter= 2\n",
      "iteration= 28\t chi2= 0.000000\t time= 0.0627817\t cumTime= 2.0699\t edges= 100\t schur= 0\t lambda= 0.000000\t levenbergIter= 1\n",
      "Cholesky failure, writing debug.txt (Hessian loadable by Octave)\n",
      "iteration= 29\t chi2= 0.000000\t time= 0.0726891\t cumTime= 2.14259\t edges= 100\t schur= 0\t lambda= 0.000000\t levenbergIter= 2\n",
      "iteration= 30\t chi2= 0.000000\t time= 0.0545631\t cumTime= 2.19716\t edges= 100\t schur= 0\t lambda= 0.000000\t levenbergIter= 1\n",
      "Cholesky failure, writing debug.txt (Hessian loadable by Octave)\n",
      "iteration= 31\t chi2= 0.000000\t time= 0.0791603\t cumTime= 2.27632\t edges= 100\t schur= 0\t lambda= 0.000000\t levenbergIter= 2\n",
      "iteration= 32\t chi2= 0.000000\t time= 0.0588975\t cumTime= 2.33521\t edges= 100\t schur= 0\t lambda= 0.000000\t levenbergIter= 2\n",
      "iteration= 33\t chi2= 0.000000\t time= 0.0625938\t cumTime= 2.39781\t edges= 100\t schur= 0\t lambda= 0.000000\t levenbergIter= 1\n",
      "Cholesky failure, writing debug.txt (Hessian loadable by Octave)\n",
      "iteration= 34\t chi2= 0.000000\t time= 0.0776264\t cumTime= 2.47543\t edges= 100\t schur= 0\t lambda= 0.000000\t levenbergIter= 2\n",
      "iteration= 35\t chi2= 0.000000\t time= 0.0548232\t cumTime= 2.53026\t edges= 100\t schur= 0\t lambda= 0.000000\t levenbergIter= 1\n",
      "Cholesky failure, writing debug.txt (Hessian loadable by Octave)\n",
      "iteration= 36\t chi2= 0.000000\t time= 0.0787528\t cumTime= 2.60901\t edges= 100\t schur= 0\t lambda= 0.000000\t levenbergIter= 2\n",
      "iteration= 37\t chi2= 0.000000\t time= 0.0661975\t cumTime= 2.67521\t edges= 100\t schur= 0\t lambda= 0.000000\t levenbergIter= 2\n",
      "iteration= 38\t chi2= 0.000000\t time= 0.0561489\t cumTime= 2.73136\t edges= 100\t schur= 0\t lambda= 0.000000\t levenbergIter= 1\n",
      "iteration= 39\t chi2= 0.000000\t time= 0.0538022\t cumTime= 2.78516\t edges= 100\t schur= 0\t lambda= 0.000000\t levenbergIter= 1\n",
      "Cholesky failure, writing debug.txt (Hessian loadable by Octave)\n",
      "iteration= 40\t chi2= 0.000000\t time= 0.0841614\t cumTime= 2.86932\t edges= 100\t schur= 0\t lambda= 0.000000\t levenbergIter= 3\n",
      "iteration= 41\t chi2= 0.000000\t time= 0.0550012\t cumTime= 2.92432\t edges= 100\t schur= 0\t lambda= 0.000000\t levenbergIter= 1\n",
      "iteration= 42\t chi2= 0.000000\t time= 0.0609178\t cumTime= 2.98524\t edges= 100\t schur= 0\t lambda= 0.000000\t levenbergIter= 1\n",
      "iteration= 43\t chi2= 0.000000\t time= 0.0559709\t cumTime= 3.04121\t edges= 100\t schur= 0\t lambda= 0.000000\t levenbergIter= 1\n",
      "iteration= 44\t chi2= 0.000000\t time= 0.0552805\t cumTime= 3.09649\t edges= 100\t schur= 0\t lambda= 0.000000\t levenbergIter= 1\n",
      "Cholesky failure, writing debug.txt (Hessian loadable by Octave)\n",
      "iteration= 45\t chi2= 0.000000\t time= 0.0811719\t cumTime= 3.17766\t edges= 100\t schur= 0\t lambda= 0.000000\t levenbergIter= 2\n",
      "Cholesky failure, writing debug.txt (Hessian loadable by Octave)\n",
      "iteration= 46\t chi2= 0.000000\t time= 0.0748145\t cumTime= 3.25248\t edges= 100\t schur= 0\t lambda= 0.000000\t levenbergIter= 2\n",
      "iteration= 47\t chi2= 0.000000\t time= 0.0638158\t cumTime= 3.31629\t edges= 100\t schur= 0\t lambda= 0.000000\t levenbergIter= 1\n",
      "Cholesky failure, writing debug.txt (Hessian loadable by Octave)\n",
      "iteration= 48\t chi2= 0.000000\t time= 0.0779981\t cumTime= 3.39429\t edges= 100\t schur= 0\t lambda= 0.000000\t levenbergIter= 2\n",
      "iteration= 49\t chi2= 0.000000\t time= 0.0578137\t cumTime= 3.45211\t edges= 100\t schur= 0\t lambda= 0.000000\t levenbergIter= 2\n",
      "iteration= 50\t chi2= 0.000000\t time= 0.064933\t cumTime= 3.51704\t edges= 100\t schur= 0\t lambda= 0.000000\t levenbergIter= 1\n",
      "iteration= 51\t chi2= 0.000000\t time= 0.060216\t cumTime= 3.57725\t edges= 100\t schur= 0\t lambda= 0.000000\t levenbergIter= 2\n",
      "iteration= 52\t chi2= 0.000000\t time= 0.0631214\t cumTime= 3.64038\t edges= 100\t schur= 0\t lambda= 0.000000\t levenbergIter= 1\n",
      "Cholesky failure, writing debug.txt (Hessian loadable by Octave)\n",
      "iteration= 53\t chi2= 0.000000\t time= 0.0825419\t cumTime= 3.72292\t edges= 100\t schur= 0\t lambda= 0.000000\t levenbergIter= 2\n",
      "iteration= 54\t chi2= 0.000000\t time= 0.0545143\t cumTime= 3.77743\t edges= 100\t schur= 0\t lambda= 0.000000\t levenbergIter= 1\n",
      "Cholesky failure, writing debug.txt (Hessian loadable by Octave)\n",
      "iteration= 55\t chi2= 0.000000\t time= 0.0798612\t cumTime= 3.85729\t edges= 100\t schur= 0\t lambda= 0.000000\t levenbergIter= 2\n",
      "iteration= 56\t chi2= 0.000000\t time= 0.0587229\t cumTime= 3.91602\t edges= 100\t schur= 0\t lambda= 0.000000\t levenbergIter= 1\n",
      "Cholesky failure, writing debug.txt (Hessian loadable by Octave)\n",
      "iteration= 57\t chi2= 0.000000\t time= 0.0778746\t cumTime= 3.99389\t edges= 100\t schur= 0\t lambda= 0.000000\t levenbergIter= 2\n",
      "Cholesky failure, writing debug.txt (Hessian loadable by Octave)\n",
      "iteration= 58\t chi2= 0.000000\t time= 0.0713965\t cumTime= 4.06529\t edges= 100\t schur= 0\t lambda= 0.000000\t levenbergIter= 2\n",
      "iteration= 59\t chi2= 0.000000\t time= 0.0652751\t cumTime= 4.13056\t edges= 100\t schur= 0\t lambda= 0.000000\t levenbergIter= 1\n",
      "Cholesky failure, writing debug.txt (Hessian loadable by Octave)\n",
      "iteration= 60\t chi2= 0.000000\t time= 0.0721848\t cumTime= 4.20275\t edges= 100\t schur= 0\t lambda= 0.000000\t levenbergIter= 2\n",
      "iteration= 61\t chi2= 0.000000\t time= 0.0602928\t cumTime= 4.26304\t edges= 100\t schur= 0\t lambda= 0.000000\t levenbergIter= 1\n",
      "Cholesky failure, writing debug.txt (Hessian loadable by Octave)\n",
      "iteration= 62\t chi2= 0.000000\t time= 0.0765535\t cumTime= 4.33959\t edges= 100\t schur= 0\t lambda= 0.000000\t levenbergIter= 2\n",
      "iteration= 63\t chi2= 0.000000\t time= 0.0582713\t cumTime= 4.39786\t edges= 100\t schur= 0\t lambda= 0.000000\t levenbergIter= 2\n",
      "iteration= 64\t chi2= 0.000000\t time= 0.0611755\t cumTime= 4.45904\t edges= 100\t schur= 0\t lambda= 0.000000\t levenbergIter= 1\n",
      "Cholesky failure, writing debug.txt (Hessian loadable by Octave)\n",
      "iteration= 65\t chi2= 0.000000\t time= 0.0710307\t cumTime= 4.53007\t edges= 100\t schur= 0\t lambda= 0.000000\t levenbergIter= 2\n",
      "iteration= 66\t chi2= 0.000000\t time= 0.0685887\t cumTime= 4.59866\t edges= 100\t schur= 0\t lambda= 0.000000\t levenbergIter= 2\n",
      "iteration= 67\t chi2= 0.000000\t time= 0.0665482\t cumTime= 4.66521\t edges= 100\t schur= 0\t lambda= 0.000000\t levenbergIter= 1\n",
      "iteration= 68\t chi2= 0.000000\t time= 0.0585074\t cumTime= 4.72372\t edges= 100\t schur= 0\t lambda= 0.000000\t levenbergIter= 1\n",
      "Cholesky failure, writing debug.txt (Hessian loadable by Octave)\n",
      "iteration= 69\t chi2= 0.000000\t time= 0.0808615\t cumTime= 4.80458\t edges= 100\t schur= 0\t lambda= 0.000000\t levenbergIter= 2\n",
      "Cholesky failure, writing debug.txt (Hessian loadable by Octave)\n",
      "iteration= 70\t chi2= 0.000000\t time= 0.077261\t cumTime= 4.88184\t edges= 100\t schur= 0\t lambda= 0.000000\t levenbergIter= 2\n",
      "iteration= 71\t chi2= 0.000000\t time= 0.05518\t cumTime= 4.93702\t edges= 100\t schur= 0\t lambda= 0.000000\t levenbergIter= 1\n",
      "Cholesky failure, writing debug.txt (Hessian loadable by Octave)\n",
      "iteration= 72\t chi2= 0.000000\t time= 0.0745286\t cumTime= 5.01155\t edges= 100\t schur= 0\t lambda= 0.000000\t levenbergIter= 2\n",
      "iteration= 73\t chi2= 0.000000\t time= 0.0660704\t cumTime= 5.07762\t edges= 100\t schur= 0\t lambda= 0.000000\t levenbergIter= 2\n",
      "iteration= 74\t chi2= 0.000000\t time= 0.0551267\t cumTime= 5.13274\t edges= 100\t schur= 0\t lambda= 0.000000\t levenbergIter= 1\n",
      "iteration= 75\t chi2= 0.000000\t time= 0.066591\t cumTime= 5.19933\t edges= 100\t schur= 0\t lambda= 0.000000\t levenbergIter= 2\n",
      "iteration= 76\t chi2= 0.000000\t time= 0.0631044\t cumTime= 5.26244\t edges= 100\t schur= 0\t lambda= 0.000000\t levenbergIter= 1\n",
      "Cholesky failure, writing debug.txt (Hessian loadable by Octave)\n",
      "iteration= 77\t chi2= 0.000000\t time= 0.0807386\t cumTime= 5.34318\t edges= 100\t schur= 0\t lambda= 0.000000\t levenbergIter= 2\n",
      "iteration= 78\t chi2= 0.000000\t time= 0.0574893\t cumTime= 5.40067\t edges= 100\t schur= 0\t lambda= 0.000000\t levenbergIter= 1\n",
      "Cholesky failure, writing debug.txt (Hessian loadable by Octave)\n",
      "iteration= 79\t chi2= 0.000000\t time= 0.0829399\t cumTime= 5.48361\t edges= 100\t schur= 0\t lambda= 0.000000\t levenbergIter= 2\n",
      "iteration= 80\t chi2= 0.000000\t time= 0.0654591\t cumTime= 5.54907\t edges= 100\t schur= 0\t lambda= 0.000000\t levenbergIter= 2\n",
      "iteration= 81\t chi2= 0.000000\t time= 0.0581724\t cumTime= 5.60724\t edges= 100\t schur= 0\t lambda= 0.000000\t levenbergIter= 1\n",
      "Cholesky failure, writing debug.txt (Hessian loadable by Octave)\n",
      "iteration= 82\t chi2= 0.000000\t time= 0.0811242\t cumTime= 5.68836\t edges= 100\t schur= 0\t lambda= 0.000000\t levenbergIter= 2\n",
      "iteration= 83\t chi2= 0.000000\t time= 0.0615197\t cumTime= 5.74988\t edges= 100\t schur= 0\t lambda= 0.000000\t levenbergIter= 1\n",
      "Cholesky failure, writing debug.txt (Hessian loadable by Octave)\n",
      "iteration= 84\t chi2= 0.000000\t time= 0.0824767\t cumTime= 5.83236\t edges= 100\t schur= 0\t lambda= 0.000000\t levenbergIter= 2\n",
      "iteration= 85\t chi2= 0.000000\t time= 0.0670704\t cumTime= 5.89943\t edges= 100\t schur= 0\t lambda= 0.000000\t levenbergIter= 2\n",
      "iteration= 86\t chi2= 0.000000\t time= 0.0619244\t cumTime= 5.96135\t edges= 100\t schur= 0\t lambda= 0.000000\t levenbergIter= 1\n",
      "iteration= 87\t chi2= 0.000000\t time= 0.0691195\t cumTime= 6.03047\t edges= 100\t schur= 0\t lambda= 0.000000\t levenbergIter= 2\n",
      "iteration= 88\t chi2= 0.000000\t time= 0.0534313\t cumTime= 6.0839\t edges= 100\t schur= 0\t lambda= 0.000000\t levenbergIter= 1\n",
      "Cholesky failure, writing debug.txt (Hessian loadable by Octave)\n",
      "iteration= 89\t chi2= 0.000000\t time= 0.0762899\t cumTime= 6.16019\t edges= 100\t schur= 0\t lambda= 0.000000\t levenbergIter= 2\n",
      "iteration= 90\t chi2= 0.000000\t time= 0.0529077\t cumTime= 6.2131\t edges= 100\t schur= 0\t lambda= 0.000000\t levenbergIter= 1\n",
      "Cholesky failure, writing debug.txt (Hessian loadable by Octave)\n",
      "iteration= 91\t chi2= 0.000000\t time= 0.0720646\t cumTime= 6.28517\t edges= 100\t schur= 0\t lambda= 0.000000\t levenbergIter= 2\n",
      "iteration= 92\t chi2= 0.000000\t time= 0.0625629\t cumTime= 6.34773\t edges= 100\t schur= 0\t lambda= 0.000000\t levenbergIter= 2\n",
      "iteration= 93\t chi2= 0.000000\t time= 0.0569334\t cumTime= 6.40466\t edges= 100\t schur= 0\t lambda= 0.000000\t levenbergIter= 1\n",
      "Cholesky failure, writing debug.txt (Hessian loadable by Octave)\n",
      "iteration= 94\t chi2= 0.000000\t time= 0.0858462\t cumTime= 6.49051\t edges= 100\t schur= 0\t lambda= 0.000000\t levenbergIter= 2\n",
      "iteration= 95\t chi2= 0.000000\t time= 0.0630155\t cumTime= 6.55352\t edges= 100\t schur= 0\t lambda= 0.000000\t levenbergIter= 1\n",
      "Cholesky failure, writing debug.txt (Hessian loadable by Octave)\n",
      "iteration= 96\t chi2= 0.000000\t time= 0.0783089\t cumTime= 6.63183\t edges= 100\t schur= 0\t lambda= 0.000000\t levenbergIter= 2\n",
      "iteration= 97\t chi2= 0.000000\t time= 0.0567644\t cumTime= 6.6886\t edges= 100\t schur= 0\t lambda= 0.000000\t levenbergIter= 2\n",
      "iteration= 98\t chi2= 0.000000\t time= 0.052807\t cumTime= 6.7414\t edges= 100\t schur= 0\t lambda= 0.000000\t levenbergIter= 1\n",
      "iteration= 99\t chi2= 0.000000\t time= 0.0608293\t cumTime= 6.80223\t edges= 100\t schur= 0\t lambda= 0.000000\t levenbergIter= 2\n"
     ]
    },
    {
     "data": {
      "text/plain": [
       "100"
      ]
     },
     "execution_count": 22,
     "metadata": {},
     "output_type": "execute_result"
    }
   ],
   "source": [
    "# perform the optimization\n",
    "optimizer.initialize_optimization()\n",
    "optimizer.set_verbose(verbose)\n",
    "optimizer.optimize(max_iterations)"
   ]
  },
  {
   "cell_type": "code",
   "execution_count": 23,
   "id": "00df1c87-6f84-4dc3-a48f-43ed51a6ca54",
   "metadata": {
    "tags": []
   },
   "outputs": [
    {
     "name": "stdout",
     "output_type": "stream",
     "text": [
      "3.9141415214899262 8.374667341323539 -2.2876954394245184 0.874389652341228 -6.733777761088417\n"
     ]
    },
    {
     "data": {
      "text/plain": [
       "<matplotlib.collections.PathCollection at 0x7f9e115e8850>"
      ]
     },
     "execution_count": 23,
     "metadata": {},
     "output_type": "execute_result"
    },
    {
     "data": {
      "image/png": "[encoded data removed]",
      "text/plain": [
       "<Figure size 1200x1200 with 1 Axes>"
      ]
     },
     "metadata": {},
     "output_type": "display_data"
    }
   ],
   "source": [
    "cx_est,cy_est,a_est,b_est,phi_est = optimizer.vertices()[0].estimate()\n",
    "#est_eclipse_xs, est_eclipse_ys = sample_ellipse(cx_est,cy_est,a_est,b_est)\n",
    "\n",
    "R_est = get_rot_mat_from_angle(phi_est)\n",
    "\n",
    "est_eclipse_xs = []\n",
    "est_eclipse_ys = []\n",
    "for i in range(1,num_points):\n",
    "    est_th = optimizer.vertices()[i].estimate()[0]\n",
    "    \n",
    "    x_,y_ = R_est @ np.array([a_est * np.cos(est_th),b_est * np.sin(est_th)])\n",
    "    \n",
    "    est_eclipse_xs.append(cx_est + x_)\n",
    "    est_eclipse_ys.append(cy_est + y_)\n",
    "\n",
    "print(cx_est,cy_est,a_est,b_est,phi_est / np.pi * 180)\n",
    "\n",
    "dd = np.array(points).T\n",
    "plt.scatter(dd[0,:],dd[1,:])\n",
    "plt.scatter(est_eclipse_xs,est_eclipse_ys)"
   ]
  },
  {
   "cell_type": "code",
   "execution_count": null,
   "id": "74672c8e-b91b-49d5-ba1d-f764c8de8290",
   "metadata": {},
   "outputs": [],
   "source": []
  }
 ],
 "metadata": {
  "kernelspec": {
   "display_name": "Python 3 (ipykernel)",
   "language": "python",
   "name": "python3"
  },
  "language_info": {
   "codemirror_mode": {
    "name": "ipython",
    "version": 3
   },
   "file_extension": ".py",
   "mimetype": "text/x-python",
   "name": "python",
   "nbconvert_exporter": "python",
   "pygments_lexer": "ipython3",
   "version": "3.8.10"
  }
 },
 "nbformat": 4,
 "nbformat_minor": 5
}
